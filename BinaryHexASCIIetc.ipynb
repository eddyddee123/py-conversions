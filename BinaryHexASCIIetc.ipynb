{
 "cells": [
  {
   "cell_type": "markdown",
   "metadata": {},
   "source": [
    "# Builtin Python conversions between unicode char string, bytes, hex and binary string and integer formats "
   ]
  },
  {
   "cell_type": "markdown",
   "metadata": {},
   "source": [
    "I find myself often needing to convert strings from hex to binary, or perform bitwise operations such as XOR. \n",
    "I saw a lot of different methods on the web, many of which required custom coding or external libraries. I wanted to gather the cleanest methods in one place.\n",
    "\n",
    "All the methods here rely only on Python builtins. I prefer clean, succinct and explicit solutions, even if they may take a few more nanoseconds per call (which they often  do not). I use Python 3.6+ f-strings liberally, but you could easily use the format() builtin if you prefer.\n",
    "\n",
    "If anyone has an easier way to convert between char and binary string representations I'd love to hear.\n",
    "\n",
    "It may seem strange to convert a unicode char string into an integer. I do this because Python's bitwise operators are defined for numeric types but undefined for other types. See the end of the notebook for how to XOR two integers of unequal length."
   ]
  },
  {
   "cell_type": "markdown",
   "metadata": {},
   "source": [
    "## Setup"
   ]
  },
  {
   "cell_type": "code",
   "execution_count": 1,
   "metadata": {},
   "outputs": [],
   "source": [
    "# string\n",
    "S = u'¡Hola Mundo!'\n",
    "# bytes\n",
    "BY = b'\\xc2\\xa1Hola Mundo!'\n",
    "# bytearray\n",
    "BA = bytearray(b'\\xc2\\xa1Hola Mundo!')\n",
    "# hex string\n",
    "H = u'c2a1486f6c61204d756e646f21'\n",
    "# decimal string\n",
    "D = u'15420178183189456939991737593633'\n",
    "# binary string\n",
    "B = u'11000010101000010100100001101111011011000110000100100000010011010111010101101110011001000110111100100001'\n",
    "# int\n",
    "I = 15420178183189456939991737593633"
   ]
  },
  {
   "cell_type": "markdown",
   "metadata": {},
   "source": [
    "## character string conversions"
   ]
  },
  {
   "cell_type": "code",
   "execution_count": 2,
   "metadata": {},
   "outputs": [
    {
     "name": "stdout",
     "output_type": "stream",
     "text": [
      "('¡Hola Mundo!', b'\\xc2\\xa1Hola Mundo!')\n"
     ]
    }
   ],
   "source": [
    "by = bytes(S, encoding='utf-8')\n",
    "print(repr((S, by)))\n",
    "assert by == BY"
   ]
  },
  {
   "cell_type": "code",
   "execution_count": 3,
   "metadata": {},
   "outputs": [
    {
     "name": "stdout",
     "output_type": "stream",
     "text": [
      "('¡Hola Mundo!', bytearray(b'\\xc2\\xa1Hola Mundo!'))\n"
     ]
    }
   ],
   "source": [
    "ba = bytearray(S, encoding='utf-8')\n",
    "print(repr((S, ba)))\n",
    "assert ba == BA"
   ]
  },
  {
   "cell_type": "code",
   "execution_count": 4,
   "metadata": {},
   "outputs": [
    {
     "name": "stdout",
     "output_type": "stream",
     "text": [
      "('¡Hola Mundo!', 'c2a1486f6c61204d756e646f21')\n"
     ]
    }
   ],
   "source": [
    "h = bytes(S, encoding='utf-8').hex()\n",
    "print(repr((S, h)))\n",
    "assert h == H"
   ]
  },
  {
   "cell_type": "code",
   "execution_count": 5,
   "metadata": {},
   "outputs": [
    {
     "name": "stdout",
     "output_type": "stream",
     "text": [
      "('¡Hola Mundo!', '15420178183189456939991737593633')\n"
     ]
    }
   ],
   "source": [
    "d = f'{int(bytes(S, encoding=\"utf-8\").hex(), base=16):d}'\n",
    "print(repr((S, d)))\n",
    "assert d == D"
   ]
  },
  {
   "cell_type": "code",
   "execution_count": 6,
   "metadata": {},
   "outputs": [
    {
     "name": "stdout",
     "output_type": "stream",
     "text": [
      "('¡Hola Mundo!', '11000010101000010100100001101111011011000110000100100000010011010111010101101110011001000110111100100001')\n"
     ]
    }
   ],
   "source": [
    "# charstr to binstr is very indirect: charstr->bytes->hexstr->int->binstr\n",
    "# any better way?\n",
    "b = f'{int(bytes(S, encoding=\"utf-8\").hex(), base=16):b}'\n",
    "print(repr((S, b)))\n",
    "assert b == B"
   ]
  },
  {
   "cell_type": "code",
   "execution_count": 7,
   "metadata": {},
   "outputs": [
    {
     "name": "stdout",
     "output_type": "stream",
     "text": [
      "('¡Hola Mundo!', 15420178183189456939991737593633)\n"
     ]
    }
   ],
   "source": [
    "i = int(bytes(S, encoding='utf-8').hex(), base=16)\n",
    "print(repr((S, i)))\n",
    "assert i == I"
   ]
  },
  {
   "cell_type": "markdown",
   "metadata": {},
   "source": [
    "## bytes conversions"
   ]
  },
  {
   "cell_type": "code",
   "execution_count": 8,
   "metadata": {},
   "outputs": [
    {
     "name": "stdout",
     "output_type": "stream",
     "text": [
      "(b'\\xc2\\xa1Hola Mundo!', '¡Hola Mundo!')\n"
     ]
    }
   ],
   "source": [
    "s = BY.decode()\n",
    "print(repr((BY, s)))\n",
    "assert s == S"
   ]
  },
  {
   "cell_type": "code",
   "execution_count": 9,
   "metadata": {},
   "outputs": [
    {
     "name": "stdout",
     "output_type": "stream",
     "text": [
      "(b'\\xc2\\xa1Hola Mundo!', bytearray(b'\\xc2\\xa1Hola Mundo!'))\n"
     ]
    }
   ],
   "source": [
    "ba = bytearray(BY)\n",
    "print(repr((BY, ba)))\n",
    "assert ba == BA"
   ]
  },
  {
   "cell_type": "code",
   "execution_count": 10,
   "metadata": {},
   "outputs": [
    {
     "name": "stdout",
     "output_type": "stream",
     "text": [
      "(b'\\xc2\\xa1Hola Mundo!', 'c2a1486f6c61204d756e646f21')\n"
     ]
    }
   ],
   "source": [
    "# uses builtin hex() rather than binascii.hexlify()\n",
    "h = BY.hex()\n",
    "print(repr((BY, h)))\n",
    "assert h == H"
   ]
  },
  {
   "cell_type": "code",
   "execution_count": 11,
   "metadata": {},
   "outputs": [
    {
     "name": "stdout",
     "output_type": "stream",
     "text": [
      "(b'\\xc2\\xa1Hola Mundo!', '11000010101000010100100001101111011011000110000100100000010011010111010101101110011001000110111100100001')\n"
     ]
    }
   ],
   "source": [
    "b = f'{int(BY.hex(), base=16):b}'\n",
    "print(repr((BY, b)))\n",
    "assert b == B"
   ]
  },
  {
   "cell_type": "code",
   "execution_count": 12,
   "metadata": {},
   "outputs": [
    {
     "name": "stdout",
     "output_type": "stream",
     "text": [
      "(b'\\xc2\\xa1Hola Mundo!', '15420178183189456939991737593633')\n"
     ]
    }
   ],
   "source": [
    "d = f'{int(BY.hex(), base=16):d}'\n",
    "print(repr((BY, d)))\n",
    "assert d == D"
   ]
  },
  {
   "cell_type": "code",
   "execution_count": 13,
   "metadata": {},
   "outputs": [
    {
     "name": "stdout",
     "output_type": "stream",
     "text": [
      "(b'\\xc2\\xa1Hola Mundo!', 15420178183189456939991737593633)\n"
     ]
    }
   ],
   "source": [
    "i = int(BY.hex(), base=16)\n",
    "print(repr((BY, i)))\n",
    "assert i == I"
   ]
  },
  {
   "cell_type": "markdown",
   "metadata": {},
   "source": [
    "## bytearray conversions"
   ]
  },
  {
   "cell_type": "code",
   "execution_count": 14,
   "metadata": {},
   "outputs": [
    {
     "name": "stdout",
     "output_type": "stream",
     "text": [
      "(bytearray(b'\\xc2\\xa1Hola Mundo!'), '¡Hola Mundo!')\n"
     ]
    }
   ],
   "source": [
    "s = BA.decode()\n",
    "print(repr((BA, s)))\n",
    "assert s == S"
   ]
  },
  {
   "cell_type": "code",
   "execution_count": 15,
   "metadata": {},
   "outputs": [
    {
     "name": "stdout",
     "output_type": "stream",
     "text": [
      "(bytearray(b'\\xc2\\xa1Hola Mundo!'), b'\\xc2\\xa1Hola Mundo!')\n"
     ]
    }
   ],
   "source": [
    "by = bytes(BA)\n",
    "print(repr((BA, by)))\n",
    "assert by == BY"
   ]
  },
  {
   "cell_type": "code",
   "execution_count": 16,
   "metadata": {},
   "outputs": [
    {
     "name": "stdout",
     "output_type": "stream",
     "text": [
      "(bytearray(b'\\xc2\\xa1Hola Mundo!'), 'c2a1486f6c61204d756e646f21')\n"
     ]
    }
   ],
   "source": [
    "# uses builtin hex() rather than binascii.hexlify()\n",
    "h = BA.hex()\n",
    "print(repr((BA, h)))\n",
    "assert h == H"
   ]
  },
  {
   "cell_type": "code",
   "execution_count": 17,
   "metadata": {},
   "outputs": [
    {
     "name": "stdout",
     "output_type": "stream",
     "text": [
      "(bytearray(b'\\xc2\\xa1Hola Mundo!'), '11000010101000010100100001101111011011000110000100100000010011010111010101101110011001000110111100100001')\n"
     ]
    }
   ],
   "source": [
    "b = f'{int(BA.hex(), base=16):b}'\n",
    "print(repr((BA, b)))\n",
    "assert b == B"
   ]
  },
  {
   "cell_type": "code",
   "execution_count": 18,
   "metadata": {},
   "outputs": [
    {
     "name": "stdout",
     "output_type": "stream",
     "text": [
      "(bytearray(b'\\xc2\\xa1Hola Mundo!'), '15420178183189456939991737593633')\n"
     ]
    }
   ],
   "source": [
    "d = f'{int(BA.hex(), base=16):d}'\n",
    "print(repr((BA, d)))\n",
    "assert d == D"
   ]
  },
  {
   "cell_type": "code",
   "execution_count": 19,
   "metadata": {},
   "outputs": [
    {
     "name": "stdout",
     "output_type": "stream",
     "text": [
      "(bytearray(b'\\xc2\\xa1Hola Mundo!'), 15420178183189456939991737593633)\n"
     ]
    }
   ],
   "source": [
    "i = int(BA.hex(), base=16)\n",
    "print(repr((BA, i)))\n",
    "assert i == I"
   ]
  },
  {
   "cell_type": "markdown",
   "metadata": {},
   "source": [
    "## hexstr conversions"
   ]
  },
  {
   "cell_type": "code",
   "execution_count": 20,
   "metadata": {},
   "outputs": [
    {
     "name": "stdout",
     "output_type": "stream",
     "text": [
      "('c2a1486f6c61204d756e646f21', '¡Hola Mundo!')\n"
     ]
    }
   ],
   "source": [
    "s = bytes.fromhex(H).decode()\n",
    "print(repr((H, s)))\n",
    "assert s == S"
   ]
  },
  {
   "cell_type": "code",
   "execution_count": 21,
   "metadata": {},
   "outputs": [
    {
     "name": "stdout",
     "output_type": "stream",
     "text": [
      "('c2a1486f6c61204d756e646f21', b'\\xc2\\xa1Hola Mundo!')\n"
     ]
    }
   ],
   "source": [
    "by = bytes.fromhex(H)\n",
    "print(repr((H, by)))\n",
    "assert by == BY"
   ]
  },
  {
   "cell_type": "code",
   "execution_count": 22,
   "metadata": {},
   "outputs": [
    {
     "name": "stdout",
     "output_type": "stream",
     "text": [
      "('c2a1486f6c61204d756e646f21', bytearray(b'\\xc2\\xa1Hola Mundo!'))\n"
     ]
    }
   ],
   "source": [
    "ba = bytearray.fromhex(H)\n",
    "print(repr((H, ba)))\n",
    "assert ba == BA"
   ]
  },
  {
   "cell_type": "code",
   "execution_count": 23,
   "metadata": {},
   "outputs": [
    {
     "name": "stdout",
     "output_type": "stream",
     "text": [
      "('c2a1486f6c61204d756e646f21', '11000010101000010100100001101111011011000110000100100000010011010111010101101110011001000110111100100001')\n"
     ]
    }
   ],
   "source": [
    "b = f'{int(H, base=16):b}'\n",
    "print(repr((H, b)))\n",
    "assert b == B"
   ]
  },
  {
   "cell_type": "code",
   "execution_count": 24,
   "metadata": {},
   "outputs": [
    {
     "name": "stdout",
     "output_type": "stream",
     "text": [
      "('c2a1486f6c61204d756e646f21', '15420178183189456939991737593633')\n"
     ]
    }
   ],
   "source": [
    "d = f'{int(H, base=16):d}'\n",
    "print(repr((H, d)))\n",
    "assert d == D"
   ]
  },
  {
   "cell_type": "code",
   "execution_count": 25,
   "metadata": {},
   "outputs": [
    {
     "name": "stdout",
     "output_type": "stream",
     "text": [
      "('c2a1486f6c61204d756e646f21', 15420178183189456939991737593633)\n"
     ]
    }
   ],
   "source": [
    "i = int(H, base=16)\n",
    "print(repr((H, i)))\n",
    "assert i == I"
   ]
  },
  {
   "cell_type": "markdown",
   "metadata": {},
   "source": [
    "## binstr conversions"
   ]
  },
  {
   "cell_type": "code",
   "execution_count": 26,
   "metadata": {},
   "outputs": [
    {
     "name": "stdout",
     "output_type": "stream",
     "text": [
      "('11000010101000010100100001101111011011000110000100100000010011010111010101101110011001000110111100100001', '¡Hola Mundo!')\n"
     ]
    }
   ],
   "source": [
    "# binstr->int->hexstr->bytes->charstr\n",
    "# any better way?\n",
    "s = bytes.fromhex(f'{int(B, base=2):x}').decode()\n",
    "print(repr((B, s)))\n",
    "assert s == S"
   ]
  },
  {
   "cell_type": "code",
   "execution_count": 27,
   "metadata": {},
   "outputs": [
    {
     "name": "stdout",
     "output_type": "stream",
     "text": [
      "('11000010101000010100100001101111011011000110000100100000010011010111010101101110011001000110111100100001', b'\\xc2\\xa1Hola Mundo!')\n"
     ]
    }
   ],
   "source": [
    "by = bytes.fromhex(f'{int(B, base=2):x}')\n",
    "print(repr((B, by)))\n",
    "assert by == BY"
   ]
  },
  {
   "cell_type": "code",
   "execution_count": 28,
   "metadata": {},
   "outputs": [
    {
     "name": "stdout",
     "output_type": "stream",
     "text": [
      "('11000010101000010100100001101111011011000110000100100000010011010111010101101110011001000110111100100001', bytearray(b'\\xc2\\xa1Hola Mundo!'))\n"
     ]
    }
   ],
   "source": [
    "ba =  bytearray.fromhex(f'{int(B, base=2):x}')\n",
    "print(repr((B, ba)))\n",
    "assert ba == BA"
   ]
  },
  {
   "cell_type": "code",
   "execution_count": 29,
   "metadata": {},
   "outputs": [
    {
     "name": "stdout",
     "output_type": "stream",
     "text": [
      "('11000010101000010100100001101111011011000110000100100000010011010111010101101110011001000110111100100001', 'c2a1486f6c61204d756e646f21')\n"
     ]
    }
   ],
   "source": [
    "h = f'{int(B, base=2):x}'\n",
    "print(repr((B, h)))\n",
    "assert h == H"
   ]
  },
  {
   "cell_type": "code",
   "execution_count": 30,
   "metadata": {},
   "outputs": [
    {
     "name": "stdout",
     "output_type": "stream",
     "text": [
      "('11000010101000010100100001101111011011000110000100100000010011010111010101101110011001000110111100100001', '15420178183189456939991737593633')\n"
     ]
    }
   ],
   "source": [
    "d = f'{int(B, base=2):d}'\n",
    "print(repr((B, d)))\n",
    "assert d == D"
   ]
  },
  {
   "cell_type": "code",
   "execution_count": 31,
   "metadata": {},
   "outputs": [
    {
     "name": "stdout",
     "output_type": "stream",
     "text": [
      "('11000010101000010100100001101111011011000110000100100000010011010111010101101110011001000110111100100001', 15420178183189456939991737593633)\n"
     ]
    }
   ],
   "source": [
    "i = int(B, base=2)\n",
    "print(repr((B, i)))\n",
    "assert i == I"
   ]
  },
  {
   "cell_type": "markdown",
   "metadata": {},
   "source": [
    "## decstr conversions"
   ]
  },
  {
   "cell_type": "code",
   "execution_count": 32,
   "metadata": {},
   "outputs": [
    {
     "name": "stdout",
     "output_type": "stream",
     "text": [
      "('15420178183189456939991737593633', '¡Hola Mundo!')\n"
     ]
    }
   ],
   "source": [
    "# decstr->int->hexstr->bytes->charstr\n",
    "# any better way?\n",
    "s = bytes.fromhex(f'{int(D, base=10):x}').decode()\n",
    "print(repr((D, s)))\n",
    "assert s == S"
   ]
  },
  {
   "cell_type": "code",
   "execution_count": 33,
   "metadata": {},
   "outputs": [
    {
     "name": "stdout",
     "output_type": "stream",
     "text": [
      "('15420178183189456939991737593633', b'\\xc2\\xa1Hola Mundo!')\n"
     ]
    }
   ],
   "source": [
    "by = bytes.fromhex(f'{int(D, base=10):x}')\n",
    "print(repr((D, by)))\n",
    "assert by == BY"
   ]
  },
  {
   "cell_type": "code",
   "execution_count": 34,
   "metadata": {},
   "outputs": [
    {
     "name": "stdout",
     "output_type": "stream",
     "text": [
      "('15420178183189456939991737593633', bytearray(b'\\xc2\\xa1Hola Mundo!'))\n"
     ]
    }
   ],
   "source": [
    "ba = bytearray.fromhex(f'{int(D, base=10):x}')\n",
    "print(repr((D, ba)))\n",
    "assert ba == BA"
   ]
  },
  {
   "cell_type": "code",
   "execution_count": 35,
   "metadata": {},
   "outputs": [
    {
     "name": "stdout",
     "output_type": "stream",
     "text": [
      "('15420178183189456939991737593633', 'c2a1486f6c61204d756e646f21')\n"
     ]
    }
   ],
   "source": [
    "h = f'{int(D, base=10):x}'\n",
    "print(repr((D, h)))\n",
    "assert h == H"
   ]
  },
  {
   "cell_type": "code",
   "execution_count": 36,
   "metadata": {},
   "outputs": [
    {
     "name": "stdout",
     "output_type": "stream",
     "text": [
      "('15420178183189456939991737593633', '11000010101000010100100001101111011011000110000100100000010011010111010101101110011001000110111100100001')\n"
     ]
    }
   ],
   "source": [
    "b = f'{int(D, base=10):b}'\n",
    "print(repr((D, b)))\n",
    "assert b == B"
   ]
  },
  {
   "cell_type": "code",
   "execution_count": 37,
   "metadata": {},
   "outputs": [
    {
     "name": "stdout",
     "output_type": "stream",
     "text": [
      "('15420178183189456939991737593633', 15420178183189456939991737593633)\n"
     ]
    }
   ],
   "source": [
    "i = int(D, base=10)\n",
    "print(repr((D, i)))\n",
    "assert i == I"
   ]
  },
  {
   "cell_type": "markdown",
   "metadata": {},
   "source": [
    "## int conversions"
   ]
  },
  {
   "cell_type": "code",
   "execution_count": 38,
   "metadata": {},
   "outputs": [
    {
     "name": "stdout",
     "output_type": "stream",
     "text": [
      "(15420178183189456939991737593633, '¡Hola Mundo!')\n"
     ]
    }
   ],
   "source": [
    "# int->hexstr->bytes->charstr\n",
    "s = bytes.fromhex(f'{I:x}').decode()\n",
    "print(repr((I, s)))\n",
    "assert s == S"
   ]
  },
  {
   "cell_type": "code",
   "execution_count": 39,
   "metadata": {},
   "outputs": [
    {
     "name": "stdout",
     "output_type": "stream",
     "text": [
      "(15420178183189456939991737593633, b'\\xc2\\xa1Hola Mundo!')\n"
     ]
    }
   ],
   "source": [
    "by = bytes.fromhex(f'{I:x}')\n",
    "# by = I.to_bytes((I.bit_length()+7)//8, 'big') # also works but more complex\n",
    "print(repr((I, by)))\n",
    "assert by == BY"
   ]
  },
  {
   "cell_type": "code",
   "execution_count": 40,
   "metadata": {},
   "outputs": [
    {
     "name": "stdout",
     "output_type": "stream",
     "text": [
      "(15420178183189456939991737593633, bytearray(b'\\xc2\\xa1Hola Mundo!'))\n"
     ]
    }
   ],
   "source": [
    "ba = bytearray.fromhex(f'{I:x}')\n",
    "# ba = bytearray(I.to_bytes((I.bit_length()+7)//8, 'big'))\n",
    "print(repr((I, ba)))\n",
    "assert ba == BA"
   ]
  },
  {
   "cell_type": "code",
   "execution_count": 41,
   "metadata": {},
   "outputs": [
    {
     "name": "stdout",
     "output_type": "stream",
     "text": [
      "(15420178183189456939991737593633, 'c2a1486f6c61204d756e646f21')\n"
     ]
    }
   ],
   "source": [
    "h = f'{I:x}'\n",
    "print(repr((I, h)))\n",
    "assert h == H"
   ]
  },
  {
   "cell_type": "code",
   "execution_count": 42,
   "metadata": {},
   "outputs": [
    {
     "name": "stdout",
     "output_type": "stream",
     "text": [
      "(15420178183189456939991737593633, '11000010101000010100100001101111011011000110000100100000010011010111010101101110011001000110111100100001')\n"
     ]
    }
   ],
   "source": [
    "b = f'{I:b}'\n",
    "print(repr((I, b)))\n",
    "assert b == B"
   ]
  },
  {
   "cell_type": "code",
   "execution_count": 43,
   "metadata": {},
   "outputs": [
    {
     "name": "stdout",
     "output_type": "stream",
     "text": [
      "(15420178183189456939991737593633, '15420178183189456939991737593633')\n"
     ]
    }
   ],
   "source": [
    "d = f'{I:d}' # also s = str(i)\n",
    "print(repr((I, d)))\n",
    "assert d == D"
   ]
  },
  {
   "cell_type": "markdown",
   "metadata": {},
   "source": [
    "# XOR of two integers of unequal length\n",
    "Useful for crypto\n",
    "\n",
    "The Python XOR operation on integers logically right-aligns them first. Typically we want to left-align them instead, so first we need to left-shift the shorter one to make it the same length as the longer one"
   ]
  },
  {
   "cell_type": "code",
   "execution_count": 48,
   "metadata": {},
   "outputs": [
    {
     "name": "stdout",
     "output_type": "stream",
     "text": [
      "0\n",
      "01101001\n"
     ]
    }
   ],
   "source": [
    "def xor(i, j):\n",
    "    d = i.bit_length() - j.bit_length()\n",
    "    return (i << d) ^ j if d < 0 else i ^ (j << d)\n",
    "\n",
    "print(repr(xor(I, I)))\n",
    "assert xor(I, I) == 0\n",
    "\n",
    "i1 = int('11001001', base=2)\n",
    "i2 = int('1010', base=2)\n",
    "r = xor(i1, i2)\n",
    "print(f'{r:08b}')"
   ]
  }
 ],
 "metadata": {
  "kernelspec": {
   "display_name": "Python 3",
   "language": "python",
   "name": "python3"
  },
  "language_info": {
   "codemirror_mode": {
    "name": "ipython",
    "version": 3
   },
   "file_extension": ".py",
   "mimetype": "text/x-python",
   "name": "python",
   "nbconvert_exporter": "python",
   "pygments_lexer": "ipython3",
   "version": "3.6.8"
  }
 },
 "nbformat": 4,
 "nbformat_minor": 2
}
